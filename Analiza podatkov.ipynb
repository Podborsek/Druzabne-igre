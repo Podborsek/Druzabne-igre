{
 "cells": [
  {
   "cell_type": "markdown",
   "metadata": {},
   "source": [
    "# Druzabne igre\n",
    "\n",
    "Projekt pri Programiranje 1\n",
    "\n",
    "Analiziral bom 1000 najbolj priljubljenih družabnih igrer na spletnem portalu [BGG](https://boardgamegeek.com/browse/boardgame?)"
   ]
  },
  {
   "cell_type": "code",
   "execution_count": 1,
   "metadata": {},
   "outputs": [],
   "source": [
    "# naložimo paket\n",
    "import pandas as pd\n",
    "\n",
    "# naložimo razpredelnice, s katerimi bomo delali\n",
    "igre = pd.read_csv('igre.csv', index_col = 'id')\n",
    "kategorije = pd.read_csv('kategorije.csv', index_col = 'id')\n",
    "nacini = pd.read_csv('nacin_igranja.csv', index_col = 'id')\n",
    "\n",
    "# ker bomo delali z velikimi razpredelnicami poskrbimo da se vedno izpiše le 20 vrstic\n",
    "pd.options.display.max_rows = 20"
   ]
  },
  {
   "cell_type": "code",
   "execution_count": 2,
   "metadata": {},
   "outputs": [
    {
     "data": {
      "text/plain": [
       "\"\\npo_imenu = igre['ime']\\npo_imenu\\n\\na = pd.merge(igre['ocena'], kategorije, on='id')\\nb = a.groupby('kategorija')\\nc = b.ocena.mean()\\nc.sort_values(ascending=False)\\n\\nigre.groupby('maxplay').size().plot(kind='bar')\\nigre.groupby('minplay').size().plot(kind='bar')\\n\\nMogoce lahko za nacine igranja ugotovim povprečno trajanje igre. Povprečno starost igralca.\\nPotem laho grafe za 10 najbolj priljubljenih? Popularnost v odvisnosti od starosti?\\n\\n\\n\""
      ]
     },
     "execution_count": 2,
     "metadata": {},
     "output_type": "execute_result"
    }
   ],
   "source": [
    "#Pomozne funkcije\n",
    "'''\n",
    "po_imenu = igre['ime']\n",
    "po_imenu\n",
    "\n",
    "a = pd.merge(igre['ocena'], kategorije, on='id')\n",
    "b = a.groupby('kategorija')\n",
    "c = b.ocena.mean()\n",
    "c.sort_values(ascending=False)\n",
    "\n",
    "igre.groupby('maxplay').size().plot(kind='bar')\n",
    "igre.groupby('minplay').size().plot(kind='bar')\n",
    "\n",
    "Mogoce lahko za nacine igranja ugotovim povprečno trajanje igre. Povprečno starost igralca.\n",
    "Potem laho grafe za 10 najbolj priljubljenih? Popularnost v odvisnosti od starosti?\n",
    "\n",
    "\n",
    "'''"
   ]
  },
  {
   "cell_type": "markdown",
   "metadata": {},
   "source": [
    "## Uvod\n",
    "Pri analizi bom v prvi vrsti uporabljal sledeče podatke: identifikacijska številka igre, ime igre, leto izida, stevilo glasov, povprečno oceno, omejitve glede starosti in števila igralcev ter čas igranja. Za natančnejšo obravnano trendov bom upošteval še tematske kategorije in načine igranja posameznih iger. Pa si kar oglejmo glavno tabelo (urejeno po številu glasov):"
   ]
  },
  {
   "cell_type": "code",
   "execution_count": 3,
   "metadata": {},
   "outputs": [
    {
     "data": {
      "text/html": [
       "<div>\n",
       "<style scoped>\n",
       "    .dataframe tbody tr th:only-of-type {\n",
       "        vertical-align: middle;\n",
       "    }\n",
       "\n",
       "    .dataframe tbody tr th {\n",
       "        vertical-align: top;\n",
       "    }\n",
       "\n",
       "    .dataframe thead th {\n",
       "        text-align: right;\n",
       "    }\n",
       "</style>\n",
       "<table border=\"1\" class=\"dataframe\">\n",
       "  <thead>\n",
       "    <tr style=\"text-align: right;\">\n",
       "      <th></th>\n",
       "      <th>ime</th>\n",
       "      <th>leto</th>\n",
       "      <th>minplay</th>\n",
       "      <th>maxplay</th>\n",
       "      <th>mintime</th>\n",
       "      <th>maxtime</th>\n",
       "      <th>minage</th>\n",
       "      <th>ocena</th>\n",
       "      <th>glasovi</th>\n",
       "    </tr>\n",
       "    <tr>\n",
       "      <th>id</th>\n",
       "      <th></th>\n",
       "      <th></th>\n",
       "      <th></th>\n",
       "      <th></th>\n",
       "      <th></th>\n",
       "      <th></th>\n",
       "      <th></th>\n",
       "      <th></th>\n",
       "      <th></th>\n",
       "    </tr>\n",
       "  </thead>\n",
       "  <tbody>\n",
       "    <tr>\n",
       "      <th>13</th>\n",
       "      <td>Catan</td>\n",
       "      <td>1995</td>\n",
       "      <td>3</td>\n",
       "      <td>4</td>\n",
       "      <td>60</td>\n",
       "      <td>120</td>\n",
       "      <td>10</td>\n",
       "      <td>7.17910</td>\n",
       "      <td>88579</td>\n",
       "    </tr>\n",
       "    <tr>\n",
       "      <th>822</th>\n",
       "      <td>Carcassonne</td>\n",
       "      <td>2000</td>\n",
       "      <td>2</td>\n",
       "      <td>5</td>\n",
       "      <td>30</td>\n",
       "      <td>45</td>\n",
       "      <td>8</td>\n",
       "      <td>7.42312</td>\n",
       "      <td>88383</td>\n",
       "    </tr>\n",
       "    <tr>\n",
       "      <th>30549</th>\n",
       "      <td>Pandemic</td>\n",
       "      <td>2008</td>\n",
       "      <td>2</td>\n",
       "      <td>4</td>\n",
       "      <td>45</td>\n",
       "      <td>45</td>\n",
       "      <td>8</td>\n",
       "      <td>7.62693</td>\n",
       "      <td>87254</td>\n",
       "    </tr>\n",
       "    <tr>\n",
       "      <th>68448</th>\n",
       "      <td>7 Wonders</td>\n",
       "      <td>2010</td>\n",
       "      <td>2</td>\n",
       "      <td>7</td>\n",
       "      <td>30</td>\n",
       "      <td>30</td>\n",
       "      <td>10</td>\n",
       "      <td>7.77183</td>\n",
       "      <td>72419</td>\n",
       "    </tr>\n",
       "    <tr>\n",
       "      <th>36218</th>\n",
       "      <td>Dominion</td>\n",
       "      <td>2008</td>\n",
       "      <td>2</td>\n",
       "      <td>4</td>\n",
       "      <td>30</td>\n",
       "      <td>30</td>\n",
       "      <td>13</td>\n",
       "      <td>7.63710</td>\n",
       "      <td>70461</td>\n",
       "    </tr>\n",
       "    <tr>\n",
       "      <th>...</th>\n",
       "      <td>...</td>\n",
       "      <td>...</td>\n",
       "      <td>...</td>\n",
       "      <td>...</td>\n",
       "      <td>...</td>\n",
       "      <td>...</td>\n",
       "      <td>...</td>\n",
       "      <td>...</td>\n",
       "      <td>...</td>\n",
       "    </tr>\n",
       "    <tr>\n",
       "      <th>943</th>\n",
       "      <td>Ligretto</td>\n",
       "      <td>1988</td>\n",
       "      <td>2</td>\n",
       "      <td>4</td>\n",
       "      <td>10</td>\n",
       "      <td>10</td>\n",
       "      <td>8</td>\n",
       "      <td>6.18856</td>\n",
       "      <td>3006</td>\n",
       "    </tr>\n",
       "    <tr>\n",
       "      <th>156858</th>\n",
       "      <td>Black Orchestra</td>\n",
       "      <td>2016</td>\n",
       "      <td>1</td>\n",
       "      <td>5</td>\n",
       "      <td>90</td>\n",
       "      <td>90</td>\n",
       "      <td>14</td>\n",
       "      <td>7.53424</td>\n",
       "      <td>3009</td>\n",
       "    </tr>\n",
       "    <tr>\n",
       "      <th>31105</th>\n",
       "      <td>Archaeology: The Card Game</td>\n",
       "      <td>2007</td>\n",
       "      <td>2</td>\n",
       "      <td>4</td>\n",
       "      <td>20</td>\n",
       "      <td>20</td>\n",
       "      <td>8</td>\n",
       "      <td>6.67640</td>\n",
       "      <td>3002</td>\n",
       "    </tr>\n",
       "    <tr>\n",
       "      <th>212402</th>\n",
       "      <td>The Grimm Forest</td>\n",
       "      <td>2018</td>\n",
       "      <td>2</td>\n",
       "      <td>4</td>\n",
       "      <td>45</td>\n",
       "      <td>60</td>\n",
       "      <td>14</td>\n",
       "      <td>7.23352</td>\n",
       "      <td>3010</td>\n",
       "    </tr>\n",
       "    <tr>\n",
       "      <th>619</th>\n",
       "      <td>The Bottle Imp</td>\n",
       "      <td>1995</td>\n",
       "      <td>2</td>\n",
       "      <td>4</td>\n",
       "      <td>30</td>\n",
       "      <td>30</td>\n",
       "      <td>10</td>\n",
       "      <td>6.75054</td>\n",
       "      <td>2998</td>\n",
       "    </tr>\n",
       "  </tbody>\n",
       "</table>\n",
       "<p>997 rows × 9 columns</p>\n",
       "</div>"
      ],
      "text/plain": [
       "                               ime  leto  minplay  maxplay  mintime  maxtime  \\\n",
       "id                                                                             \n",
       "13                           Catan  1995        3        4       60      120   \n",
       "822                    Carcassonne  2000        2        5       30       45   \n",
       "30549                     Pandemic  2008        2        4       45       45   \n",
       "68448                    7 Wonders  2010        2        7       30       30   \n",
       "36218                     Dominion  2008        2        4       30       30   \n",
       "...                            ...   ...      ...      ...      ...      ...   \n",
       "943                       Ligretto  1988        2        4       10       10   \n",
       "156858             Black Orchestra  2016        1        5       90       90   \n",
       "31105   Archaeology: The Card Game  2007        2        4       20       20   \n",
       "212402            The Grimm Forest  2018        2        4       45       60   \n",
       "619                 The Bottle Imp  1995        2        4       30       30   \n",
       "\n",
       "        minage    ocena  glasovi  \n",
       "id                                \n",
       "13          10  7.17910    88579  \n",
       "822          8  7.42312    88383  \n",
       "30549        8  7.62693    87254  \n",
       "68448       10  7.77183    72419  \n",
       "36218       13  7.63710    70461  \n",
       "...        ...      ...      ...  \n",
       "943          8  6.18856     3006  \n",
       "156858      14  7.53424     3009  \n",
       "31105        8  6.67640     3002  \n",
       "212402      14  7.23352     3010  \n",
       "619         10  6.75054     2998  \n",
       "\n",
       "[997 rows x 9 columns]"
      ]
     },
     "execution_count": 3,
     "metadata": {},
     "output_type": "execute_result"
    }
   ],
   "source": [
    "igre"
   ]
  },
  {
   "cell_type": "markdown",
   "metadata": {},
   "source": [
    "Preden zares začnemo z analizo si dodefinirajmo nekatere uporabne stolpce."
   ]
  },
  {
   "cell_type": "code",
   "execution_count": 4,
   "metadata": {},
   "outputs": [
    {
     "data": {
      "text/html": [
       "<div>\n",
       "<style scoped>\n",
       "    .dataframe tbody tr th:only-of-type {\n",
       "        vertical-align: middle;\n",
       "    }\n",
       "\n",
       "    .dataframe tbody tr th {\n",
       "        vertical-align: top;\n",
       "    }\n",
       "\n",
       "    .dataframe thead th {\n",
       "        text-align: right;\n",
       "    }\n",
       "</style>\n",
       "<table border=\"1\" class=\"dataframe\">\n",
       "  <thead>\n",
       "    <tr style=\"text-align: right;\">\n",
       "      <th></th>\n",
       "      <th>ime</th>\n",
       "      <th>leto</th>\n",
       "      <th>minplay</th>\n",
       "      <th>maxplay</th>\n",
       "      <th>mintime</th>\n",
       "      <th>maxtime</th>\n",
       "      <th>minage</th>\n",
       "      <th>ocena</th>\n",
       "      <th>glasovi</th>\n",
       "      <th>avgplay</th>\n",
       "      <th>avgtime</th>\n",
       "    </tr>\n",
       "    <tr>\n",
       "      <th>id</th>\n",
       "      <th></th>\n",
       "      <th></th>\n",
       "      <th></th>\n",
       "      <th></th>\n",
       "      <th></th>\n",
       "      <th></th>\n",
       "      <th></th>\n",
       "      <th></th>\n",
       "      <th></th>\n",
       "      <th></th>\n",
       "      <th></th>\n",
       "    </tr>\n",
       "  </thead>\n",
       "  <tbody>\n",
       "    <tr>\n",
       "      <th>13</th>\n",
       "      <td>Catan</td>\n",
       "      <td>1995</td>\n",
       "      <td>3</td>\n",
       "      <td>4</td>\n",
       "      <td>60</td>\n",
       "      <td>120</td>\n",
       "      <td>10</td>\n",
       "      <td>7.17910</td>\n",
       "      <td>88579</td>\n",
       "      <td>3.5</td>\n",
       "      <td>90.0</td>\n",
       "    </tr>\n",
       "    <tr>\n",
       "      <th>822</th>\n",
       "      <td>Carcassonne</td>\n",
       "      <td>2000</td>\n",
       "      <td>2</td>\n",
       "      <td>5</td>\n",
       "      <td>30</td>\n",
       "      <td>45</td>\n",
       "      <td>8</td>\n",
       "      <td>7.42312</td>\n",
       "      <td>88383</td>\n",
       "      <td>3.5</td>\n",
       "      <td>37.5</td>\n",
       "    </tr>\n",
       "    <tr>\n",
       "      <th>30549</th>\n",
       "      <td>Pandemic</td>\n",
       "      <td>2008</td>\n",
       "      <td>2</td>\n",
       "      <td>4</td>\n",
       "      <td>45</td>\n",
       "      <td>45</td>\n",
       "      <td>8</td>\n",
       "      <td>7.62693</td>\n",
       "      <td>87254</td>\n",
       "      <td>3.0</td>\n",
       "      <td>45.0</td>\n",
       "    </tr>\n",
       "    <tr>\n",
       "      <th>68448</th>\n",
       "      <td>7 Wonders</td>\n",
       "      <td>2010</td>\n",
       "      <td>2</td>\n",
       "      <td>7</td>\n",
       "      <td>30</td>\n",
       "      <td>30</td>\n",
       "      <td>10</td>\n",
       "      <td>7.77183</td>\n",
       "      <td>72419</td>\n",
       "      <td>4.5</td>\n",
       "      <td>30.0</td>\n",
       "    </tr>\n",
       "    <tr>\n",
       "      <th>36218</th>\n",
       "      <td>Dominion</td>\n",
       "      <td>2008</td>\n",
       "      <td>2</td>\n",
       "      <td>4</td>\n",
       "      <td>30</td>\n",
       "      <td>30</td>\n",
       "      <td>13</td>\n",
       "      <td>7.63710</td>\n",
       "      <td>70461</td>\n",
       "      <td>3.0</td>\n",
       "      <td>30.0</td>\n",
       "    </tr>\n",
       "    <tr>\n",
       "      <th>...</th>\n",
       "      <td>...</td>\n",
       "      <td>...</td>\n",
       "      <td>...</td>\n",
       "      <td>...</td>\n",
       "      <td>...</td>\n",
       "      <td>...</td>\n",
       "      <td>...</td>\n",
       "      <td>...</td>\n",
       "      <td>...</td>\n",
       "      <td>...</td>\n",
       "      <td>...</td>\n",
       "    </tr>\n",
       "    <tr>\n",
       "      <th>943</th>\n",
       "      <td>Ligretto</td>\n",
       "      <td>1988</td>\n",
       "      <td>2</td>\n",
       "      <td>4</td>\n",
       "      <td>10</td>\n",
       "      <td>10</td>\n",
       "      <td>8</td>\n",
       "      <td>6.18856</td>\n",
       "      <td>3006</td>\n",
       "      <td>3.0</td>\n",
       "      <td>10.0</td>\n",
       "    </tr>\n",
       "    <tr>\n",
       "      <th>156858</th>\n",
       "      <td>Black Orchestra</td>\n",
       "      <td>2016</td>\n",
       "      <td>1</td>\n",
       "      <td>5</td>\n",
       "      <td>90</td>\n",
       "      <td>90</td>\n",
       "      <td>14</td>\n",
       "      <td>7.53424</td>\n",
       "      <td>3009</td>\n",
       "      <td>3.0</td>\n",
       "      <td>90.0</td>\n",
       "    </tr>\n",
       "    <tr>\n",
       "      <th>31105</th>\n",
       "      <td>Archaeology: The Card Game</td>\n",
       "      <td>2007</td>\n",
       "      <td>2</td>\n",
       "      <td>4</td>\n",
       "      <td>20</td>\n",
       "      <td>20</td>\n",
       "      <td>8</td>\n",
       "      <td>6.67640</td>\n",
       "      <td>3002</td>\n",
       "      <td>3.0</td>\n",
       "      <td>20.0</td>\n",
       "    </tr>\n",
       "    <tr>\n",
       "      <th>212402</th>\n",
       "      <td>The Grimm Forest</td>\n",
       "      <td>2018</td>\n",
       "      <td>2</td>\n",
       "      <td>4</td>\n",
       "      <td>45</td>\n",
       "      <td>60</td>\n",
       "      <td>14</td>\n",
       "      <td>7.23352</td>\n",
       "      <td>3010</td>\n",
       "      <td>3.0</td>\n",
       "      <td>52.5</td>\n",
       "    </tr>\n",
       "    <tr>\n",
       "      <th>619</th>\n",
       "      <td>The Bottle Imp</td>\n",
       "      <td>1995</td>\n",
       "      <td>2</td>\n",
       "      <td>4</td>\n",
       "      <td>30</td>\n",
       "      <td>30</td>\n",
       "      <td>10</td>\n",
       "      <td>6.75054</td>\n",
       "      <td>2998</td>\n",
       "      <td>3.0</td>\n",
       "      <td>30.0</td>\n",
       "    </tr>\n",
       "  </tbody>\n",
       "</table>\n",
       "<p>997 rows × 11 columns</p>\n",
       "</div>"
      ],
      "text/plain": [
       "                               ime  leto  minplay  maxplay  mintime  maxtime  \\\n",
       "id                                                                             \n",
       "13                           Catan  1995        3        4       60      120   \n",
       "822                    Carcassonne  2000        2        5       30       45   \n",
       "30549                     Pandemic  2008        2        4       45       45   \n",
       "68448                    7 Wonders  2010        2        7       30       30   \n",
       "36218                     Dominion  2008        2        4       30       30   \n",
       "...                            ...   ...      ...      ...      ...      ...   \n",
       "943                       Ligretto  1988        2        4       10       10   \n",
       "156858             Black Orchestra  2016        1        5       90       90   \n",
       "31105   Archaeology: The Card Game  2007        2        4       20       20   \n",
       "212402            The Grimm Forest  2018        2        4       45       60   \n",
       "619                 The Bottle Imp  1995        2        4       30       30   \n",
       "\n",
       "        minage    ocena  glasovi  avgplay  avgtime  \n",
       "id                                                  \n",
       "13          10  7.17910    88579      3.5     90.0  \n",
       "822          8  7.42312    88383      3.5     37.5  \n",
       "30549        8  7.62693    87254      3.0     45.0  \n",
       "68448       10  7.77183    72419      4.5     30.0  \n",
       "36218       13  7.63710    70461      3.0     30.0  \n",
       "...        ...      ...      ...      ...      ...  \n",
       "943          8  6.18856     3006      3.0     10.0  \n",
       "156858      14  7.53424     3009      3.0     90.0  \n",
       "31105        8  6.67640     3002      3.0     20.0  \n",
       "212402      14  7.23352     3010      3.0     52.5  \n",
       "619         10  6.75054     2998      3.0     30.0  \n",
       "\n",
       "[997 rows x 11 columns]"
      ]
     },
     "execution_count": 4,
     "metadata": {},
     "output_type": "execute_result"
    }
   ],
   "source": [
    "igre['avgplay'] = (igre.minplay + igre.maxplay) / 2\n",
    "igre['avgtime'] = (igre.mintime + igre.maxtime) / 2\n",
    "igre"
   ]
  },
  {
   "cell_type": "markdown",
   "metadata": {},
   "source": [
    "## Ocena v odvisnosti od leta in drugih dejavnikov\n",
    "Ogeljmo si najprej kako leto izida vpliva na oceno. Da bodo rezultati bolj pregledni bomo ignorirali igre nastale pred letom 1980 saj te ne predstavljajo niti enega procenta podatkov."
   ]
  },
  {
   "cell_type": "code",
   "execution_count": 5,
   "metadata": {},
   "outputs": [
    {
     "data": {
      "text/plain": [
       "<matplotlib.axes._subplots.AxesSubplot at 0xfdd5370>"
      ]
     },
     "execution_count": 5,
     "metadata": {},
     "output_type": "execute_result"
    },
    {
     "data": {
      "image/png": "[encoded data removed]",
      "text/plain": [
       "<Figure size 432x288 with 1 Axes>"
      ]
     },
     "metadata": {
      "needs_background": "light"
     },
     "output_type": "display_data"
    }
   ],
   "source": [
    "moderne_igre = igre[1980 <= igre.leto]\n",
    "po_letih = moderne_igre.groupby('leto')\n",
    "po_letih.ocena.mean().plot()"
   ]
  },
  {
   "cell_type": "markdown",
   "metadata": {},
   "source": [
    "Opazimo da so ocene v osemdesetih kar poskakovale, na zacetku devetdesetih je prislo do velikega skoka, ki mu je sledil spust, od takrat naprej pa ocena v glavnem raste. Poglejmo še ali na oceno vpliva število igralcev."
   ]
  },
  {
   "cell_type": "code",
   "execution_count": 6,
   "metadata": {},
   "outputs": [
    {
     "data": {
      "text/plain": [
       "<matplotlib.axes._subplots.AxesSubplot at 0x10e24c70>"
      ]
     },
     "execution_count": 6,
     "metadata": {},
     "output_type": "execute_result"
    },
    {
     "data": {
      "image/png": "[encoded data removed]",
      "text/plain": [
       "<Figure size 432x288 with 1 Axes>"
      ]
     },
     "metadata": {
      "needs_background": "light"
     },
     "output_type": "display_data"
    }
   ],
   "source": [
    "igre[igre.avgplay <=20].plot.scatter('avgplay', 'ocena')"
   ]
  },
  {
   "cell_type": "markdown",
   "metadata": {},
   "source": [
    "Da je graf bolj pregleden zanemarimo igre z zelo velikim številom igralcev. Težko je opaziti kakšen poseben vpliv števila igralcev na oceno. Kako pa je s številom glasov?"
   ]
  },
  {
   "cell_type": "code",
   "execution_count": 7,
   "metadata": {},
   "outputs": [
    {
     "data": {
      "text/plain": [
       "<matplotlib.axes._subplots.AxesSubplot at 0x11e9cdf0>"
      ]
     },
     "execution_count": 7,
     "metadata": {},
     "output_type": "execute_result"
    },
    {
     "data": {
      "image/png": "[encoded data removed]",
      "text/plain": [
       "<Figure size 432x288 with 1 Axes>"
      ]
     },
     "metadata": {
      "needs_background": "light"
     },
     "output_type": "display_data"
    }
   ],
   "source": [
    "igre.plot.scatter('glasovi', 'ocena')"
   ]
  },
  {
   "cell_type": "markdown",
   "metadata": {},
   "source": [
    "Opazimo, da imajo največkrat ocenjene igre dobre, vendar ne odlične ocene. Slabe igre imajo bolj malo glasov, verjetno zato ker jih nihče ne priporoči prijateljem. Za konec si poglejmo še povezavo med priporočeno starostjo igralcev in oceno."
   ]
  },
  {
   "cell_type": "code",
   "execution_count": 8,
   "metadata": {},
   "outputs": [
    {
     "data": {
      "text/plain": [
       "<matplotlib.axes._subplots.AxesSubplot at 0x11edee50>"
      ]
     },
     "execution_count": 8,
     "metadata": {},
     "output_type": "execute_result"
    },
    {
     "data": {
      "image/png": "[encoded data removed]",
      "text/plain": [
       "<Figure size 432x288 with 1 Axes>"
      ]
     },
     "metadata": {
      "needs_background": "light"
     },
     "output_type": "display_data"
    }
   ],
   "source": [
    "igre.plot.scatter('minage', 'ocena')"
   ]
  },
  {
   "cell_type": "markdown",
   "metadata": {},
   "source": [
    "Zdi se da, ocena s starostjo lahno narašča. Igre za starejše so lahko bolj zapletene in tako tudi bolj zanimive. Verjetno zato nobena igra mlajše od 12 let nima ocene veliko nad 8. Dober indikator zahtevnosti igre je tudi povprečni igralnih čas. Poglejmo si še tega."
   ]
  },
  {
   "cell_type": "code",
   "execution_count": 9,
   "metadata": {},
   "outputs": [
    {
     "data": {
      "text/plain": [
       "<matplotlib.axes._subplots.AxesSubplot at 0x11f0d350>"
      ]
     },
     "execution_count": 9,
     "metadata": {},
     "output_type": "execute_result"
    },
    {
     "data": {
      "image/png": "[encoded data removed]",
      "text/plain": [
       "<Figure size 432x288 with 1 Axes>"
      ]
     },
     "metadata": {
      "needs_background": "light"
     },
     "output_type": "display_data"
    }
   ],
   "source": [
    "igre.groupby('minage')['avgtime'].mean().plot.bar()"
   ]
  },
  {
   "cell_type": "markdown",
   "metadata": {},
   "source": [
    "Po pričakovanjih igralni čas raste s priporočeno starostjo igralcev, z velikima izjemama pri 0 in pri 17-18. To je morda zato, ker stran igram, ki nimajo predpisane starosti dodeli 0. Padec pri 17-18 pa morda zato ker tja spadajo tudi \"igre za odrasle\", pri katerih poudarek ravno ni na strateškem razmišljanju."
   ]
  },
  {
   "cell_type": "markdown",
   "metadata": {},
   "source": [
    "## Najbolj priljubljene teme in načini igranja\n",
    "Portal BGG igre kategorizira na dva načina:\n",
    " + tematako: fantazijske, ekonomske, ...\n",
    " + po načinu igranja: igre s kartami, s kocko, ... \n",
    "\n",
    "Žal ta delitev ni najbolje definirana, meje niso povsem jasne in prihaja do pogostega prekrivanja. Vseeno si poglejmo najbolj popularne teme in nacine igranja."
   ]
  },
  {
   "cell_type": "code",
   "execution_count": 10,
   "metadata": {},
   "outputs": [
    {
     "data": {
      "text/plain": [
       "kategorija\n",
       "Card Game             2855891\n",
       "Fantasy               1865807\n",
       "Economic              1659451\n",
       "Fighting              1581733\n",
       "Science Fiction       1148468\n",
       "Medieval              1145100\n",
       "City Building         1091206\n",
       "Adventure              986000\n",
       "Bluffing               920665\n",
       "Territory Building     880090\n",
       "Deduction              845110\n",
       "Dice                   730691\n",
       "Party Game             694851\n",
       "Exploration            689573\n",
       "Civilization           678461\n",
       "Animals                625079\n",
       "Negotiation            596788\n",
       "Miniatures             595442\n",
       "Ancient                586704\n",
       "Horror                 541928\n",
       "Name: glasovi, dtype: int64"
      ]
     },
     "execution_count": 10,
     "metadata": {},
     "output_type": "execute_result"
    }
   ],
   "source": [
    "#Za vsako temo, za vsako igro, ki ima to temo izracunamo koliko glasov ima, tako dobimo najbolj priljubljene teme na sploh\n",
    "kategorije_po_glasovih = pd.merge(kategorije, igre['glasovi'], on='id').groupby('kategorija').glasovi.sum()\n",
    "#Najbolj popularne kategorije\n",
    "naj_kategorije = kategorije_po_glasovih.sort_values(ascending=False).head(20)\n",
    "naj_kategorije"
   ]
  },
  {
   "cell_type": "markdown",
   "metadata": {},
   "source": [
    "Najbolj priljubljene teme so torej \"Card Game\", \"Fantasy\" in \"Economic\". Prva bi seveda spadala bolj pod način igranja."
   ]
  },
  {
   "cell_type": "code",
   "execution_count": 11,
   "metadata": {},
   "outputs": [
    {
     "data": {
      "text/plain": [
       "nacin_igranja\n",
       "Hand Management                  4231263\n",
       "Dice Rolling                     2737205\n",
       "Set Collection                   2472803\n",
       "Card Drafting                    2328227\n",
       "Variable Player Powers           1785230\n",
       "Area Majority \\/ Influence       1480772\n",
       "Modular Board                    1283583\n",
       "Tile Placement                   1212222\n",
       "Cooperative Game                 1181613\n",
       "Grid Movement                    1098630\n",
       "Simultaneous Action Selection     955728\n",
       "Action Points                     876447\n",
       "Network and Route Building        835484\n",
       "Take That                         816366\n",
       "Area Movement                     801558\n",
       "Team-Based Game                   749233\n",
       "Player Elimination                744898\n",
       "Deck, Bag, and Pool Building      730168\n",
       "Auction\\/Bidding                  723679\n",
       "Worker Placement                  665029\n",
       "Name: glasovi, dtype: int64"
      ]
     },
     "execution_count": 11,
     "metadata": {},
     "output_type": "execute_result"
    }
   ],
   "source": [
    "nacini_po_glasovih = pd.merge(nacini, igre['glasovi'], on='id').groupby('nacin_igranja').glasovi.sum()\n",
    "naj_nacini = nacini_po_glasovih.sort_values(ascending=False).head(20)\n",
    "naj_nacini"
   ]
  },
  {
   "cell_type": "markdown",
   "metadata": {},
   "source": [
    "Zdaj ko smo ugotovili katere teme in kateri nacini igranja so najbolj priljubljeni, lahko analiziramo še priljubljenost po starostnih skupinah."
   ]
  },
  {
   "cell_type": "code",
   "execution_count": 12,
   "metadata": {},
   "outputs": [
    {
     "data": {
      "text/plain": [
       "kategorija\n",
       "Mature \\/ Adult                  15.750000\n",
       "Worker Placement                 14.000000\n",
       "Action Queue                     14.000000\n",
       "Simultaneous Action Selection    14.000000\n",
       "Collectible Components           13.142857\n",
       "                                   ...    \n",
       "Memory                            7.333333\n",
       "Action \\/ Dexterity               7.000000\n",
       "Children's Game                   6.080000\n",
       "Music                             6.000000\n",
       "Game System                       5.000000\n",
       "Name: minage, Length: 93, dtype: float64"
      ]
     },
     "execution_count": 12,
     "metadata": {},
     "output_type": "execute_result"
    }
   ],
   "source": [
    "kategorije_po_starosti = pd.merge(kategorije, igre['minage'], on='id').groupby('kategorija').minage.mean()\n",
    "kategorije_po_starosti.sort_values(ascending=False)"
   ]
  },
  {
   "cell_type": "markdown",
   "metadata": {},
   "source": [
    "Nikakršno presenečenje ni da so na vrhu igre za odralse, na dnu pa igre za otroke. Kako pa je s temami in načini igranja glede na povprečen čas igranja?"
   ]
  },
  {
   "cell_type": "code",
   "execution_count": 13,
   "metadata": {},
   "outputs": [
    {
     "data": {
      "text/plain": [
       "kategorija\n",
       "Civil War                        240.000000\n",
       "World War I                      180.000000\n",
       "Wargame                          146.160714\n",
       "Political                        141.062500\n",
       "World War II                     140.000000\n",
       "Negotiation                      125.910714\n",
       "Simultaneous Action Selection    120.000000\n",
       "Worker Placement                 120.000000\n",
       "Action Queue                     120.000000\n",
       "Book                             120.000000\n",
       "Post-Napoleonic                  112.500000\n",
       "Novel-based                      110.576923\n",
       "Civilization                     109.476562\n",
       "Adventure                        108.106061\n",
       "Space Exploration                107.109375\n",
       "Miniatures                       103.185484\n",
       "Action Points                    100.000000\n",
       "Modern Warfare                    99.000000\n",
       "Religious                         98.333333\n",
       "Age of Reason                     98.125000\n",
       "Name: avgtime, dtype: float64"
      ]
     },
     "execution_count": 13,
     "metadata": {},
     "output_type": "execute_result"
    }
   ],
   "source": [
    "kategorije_po_trajanju = pd.merge(kategorije, igre['avgtime'], on='id').groupby('kategorija').avgtime.mean()\n",
    "kategorije_po_trajanju.sort_values(ascending=False).head(20)"
   ]
  },
  {
   "cell_type": "code",
   "execution_count": 14,
   "metadata": {},
   "outputs": [
    {
     "data": {
      "text/plain": [
       "nacin_igranja\n",
       "Scenario \\/ Mission \\/ Campaign Game    287.500000\n",
       "Area-Impulse                            270.000000\n",
       "Map Addition                            237.500000\n",
       "Line of Sight                           195.000000\n",
       "Order Counters                          180.000000\n",
       "Stat Check Resolution                   180.000000\n",
       "Turn Order: Random                      180.000000\n",
       "Connections                             180.000000\n",
       "Tech Trees \\/ Tech Tracks               172.500000\n",
       "Card Play Conflict Resolution           165.000000\n",
       "Minimap Resolution                      157.500000\n",
       "Critical Hits and Failures              152.500000\n",
       "Follow                                  133.928571\n",
       "Market                                  131.785714\n",
       "Campaign \\/ Battle Card Driven          128.942308\n",
       "Action\\/Event                           127.500000\n",
       "Semi-Cooperative Game                   125.000000\n",
       "Trading                                 123.437500\n",
       "Area Movement                           120.062500\n",
       "Once-Per-Game Abilities                 120.000000\n",
       "Name: avgtime, dtype: float64"
      ]
     },
     "execution_count": 14,
     "metadata": {},
     "output_type": "execute_result"
    }
   ],
   "source": [
    "nacini_po_trajanju = pd.merge(nacini, igre['avgtime'], on='id').groupby('nacin_igranja').avgtime.mean()\n",
    "nacini_po_trajanju.sort_values(ascending=False).head(20)"
   ]
  },
  {
   "cell_type": "markdown",
   "metadata": {},
   "source": [
    "Pri temah najdlje trajajo različne vojen igre, kar štiri izmed prvih petih so eksplicitno vojne, pri načinih igranja pa sto v prvi dvajseterici načini igranja, kot so \"Line of Sight\", \"Order Counters\", \"Area Movement\" vse značilne za vojne igre."
   ]
  },
  {
   "cell_type": "code",
   "execution_count": null,
   "metadata": {},
   "outputs": [],
   "source": []
  }
 ],
 "metadata": {
  "kernelspec": {
   "display_name": "Python 3",
   "language": "python",
   "name": "python3"
  },
  "language_info": {
   "codemirror_mode": {
    "name": "ipython",
    "version": 3
   },
   "file_extension": ".py",
   "mimetype": "text/x-python",
   "name": "python",
   "nbconvert_exporter": "python",
   "pygments_lexer": "ipython3",
   "version": "3.7.3"
  }
 },
 "nbformat": 4,
 "nbformat_minor": 2
}
